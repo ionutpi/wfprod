{
 "cells": [
  {
   "cell_type": "code",
   "execution_count": 1,
   "metadata": {
    "ExecuteTime": {
     "end_time": "2019-11-16T14:50:42.809781Z",
     "start_time": "2019-11-16T14:50:42.397548Z"
    }
   },
   "outputs": [],
   "source": [
    "import requests\n",
    "import json\n",
    "import pandas as pd"
   ]
  },
  {
   "cell_type": "code",
   "execution_count": null,
   "metadata": {},
   "outputs": [],
   "source": [
    "api_key = 'XXXXXXXX'"
   ]
  },
  {
   "cell_type": "code",
   "execution_count": 2,
   "metadata": {
    "ExecuteTime": {
     "end_time": "2019-11-16T14:50:46.131009Z",
     "start_time": "2019-11-16T14:50:46.128668Z"
    }
   },
   "outputs": [],
   "source": [
    "url = 'https://api.meteostat.net/v1/history/hourly?station=03496&start=2019-01-08&end=2019-10-30&time_zone=Europe/London&time_format=Y-m-d%20H:i&key=' + api_key"
   ]
  },
  {
   "cell_type": "code",
   "execution_count": 4,
   "metadata": {
    "ExecuteTime": {
     "end_time": "2019-11-16T14:51:07.806895Z",
     "start_time": "2019-11-16T14:51:07.062476Z"
    }
   },
   "outputs": [],
   "source": [
    "r = requests.get(url)"
   ]
  },
  {
   "cell_type": "code",
   "execution_count": 7,
   "metadata": {
    "ExecuteTime": {
     "end_time": "2019-11-16T14:52:00.569573Z",
     "start_time": "2019-11-16T14:52:00.525182Z"
    }
   },
   "outputs": [],
   "source": [
    "js_dict = json.loads(r.text)"
   ]
  },
  {
   "cell_type": "code",
   "execution_count": 17,
   "metadata": {
    "ExecuteTime": {
     "end_time": "2019-11-16T22:04:52.893454Z",
     "start_time": "2019-11-16T22:04:52.857121Z"
    }
   },
   "outputs": [],
   "source": [
    "hemsby_wd = pd.DataFrame.from_dict(js_dict['data'])"
   ]
  },
  {
   "cell_type": "code",
   "execution_count": 18,
   "metadata": {
    "ExecuteTime": {
     "end_time": "2019-11-16T22:04:53.355465Z",
     "start_time": "2019-11-16T22:04:53.287094Z"
    }
   },
   "outputs": [],
   "source": [
    "# hemsby_wd.to_csv('hemsby_hourly.csv', index=False)"
   ]
  },
  {
   "cell_type": "code",
   "execution_count": 31,
   "metadata": {
    "ExecuteTime": {
     "end_time": "2019-11-16T22:12:25.401600Z",
     "start_time": "2019-11-16T22:12:25.387516Z"
    }
   },
   "outputs": [
    {
     "data": {
      "text/html": [
       "<div>\n",
       "<style scoped>\n",
       "    .dataframe tbody tr th:only-of-type {\n",
       "        vertical-align: middle;\n",
       "    }\n",
       "\n",
       "    .dataframe tbody tr th {\n",
       "        vertical-align: top;\n",
       "    }\n",
       "\n",
       "    .dataframe thead th {\n",
       "        text-align: right;\n",
       "    }\n",
       "</style>\n",
       "<table border=\"1\" class=\"dataframe\">\n",
       "  <thead>\n",
       "    <tr style=\"text-align: right;\">\n",
       "      <th></th>\n",
       "      <th>time</th>\n",
       "      <th>time_local</th>\n",
       "      <th>temperature</th>\n",
       "      <th>dewpoint</th>\n",
       "      <th>humidity</th>\n",
       "      <th>precipitation</th>\n",
       "      <th>precipitation_3</th>\n",
       "      <th>precipitation_6</th>\n",
       "      <th>snowdepth</th>\n",
       "      <th>windspeed</th>\n",
       "      <th>peakgust</th>\n",
       "      <th>winddirection</th>\n",
       "      <th>pressure</th>\n",
       "      <th>condition</th>\n",
       "    </tr>\n",
       "  </thead>\n",
       "  <tbody>\n",
       "    <tr>\n",
       "      <th>0</th>\n",
       "      <td>2019-01-08 00:00:00</td>\n",
       "      <td>2019-01-08 00:00</td>\n",
       "      <td>7.1</td>\n",
       "      <td>4.1</td>\n",
       "      <td>81</td>\n",
       "      <td>0.0</td>\n",
       "      <td>0.0</td>\n",
       "      <td>None</td>\n",
       "      <td>None</td>\n",
       "      <td>29.6</td>\n",
       "      <td>44.5</td>\n",
       "      <td>279</td>\n",
       "      <td>1022.2</td>\n",
       "      <td>2</td>\n",
       "    </tr>\n",
       "    <tr>\n",
       "      <th>1</th>\n",
       "      <td>2019-01-08 01:00:00</td>\n",
       "      <td>2019-01-08 01:00</td>\n",
       "      <td>6.9</td>\n",
       "      <td>3.9</td>\n",
       "      <td>81</td>\n",
       "      <td>0.0</td>\n",
       "      <td>NaN</td>\n",
       "      <td>None</td>\n",
       "      <td>None</td>\n",
       "      <td>29.6</td>\n",
       "      <td>44.5</td>\n",
       "      <td>279</td>\n",
       "      <td>1022.0</td>\n",
       "      <td>2</td>\n",
       "    </tr>\n",
       "    <tr>\n",
       "      <th>2</th>\n",
       "      <td>2019-01-08 02:00:00</td>\n",
       "      <td>2019-01-08 02:00</td>\n",
       "      <td>6.9</td>\n",
       "      <td>3.9</td>\n",
       "      <td>81</td>\n",
       "      <td>0.0</td>\n",
       "      <td>NaN</td>\n",
       "      <td>None</td>\n",
       "      <td>None</td>\n",
       "      <td>29.6</td>\n",
       "      <td>42.6</td>\n",
       "      <td>280</td>\n",
       "      <td>1021.9</td>\n",
       "      <td>2</td>\n",
       "    </tr>\n",
       "    <tr>\n",
       "      <th>3</th>\n",
       "      <td>2019-01-08 03:00:00</td>\n",
       "      <td>2019-01-08 03:00</td>\n",
       "      <td>6.7</td>\n",
       "      <td>3.5</td>\n",
       "      <td>80</td>\n",
       "      <td>0.0</td>\n",
       "      <td>0.0</td>\n",
       "      <td>None</td>\n",
       "      <td>None</td>\n",
       "      <td>29.6</td>\n",
       "      <td>42.6</td>\n",
       "      <td>282</td>\n",
       "      <td>1021.6</td>\n",
       "      <td>2</td>\n",
       "    </tr>\n",
       "    <tr>\n",
       "      <th>4</th>\n",
       "      <td>2019-01-08 04:00:00</td>\n",
       "      <td>2019-01-08 04:00</td>\n",
       "      <td>6.5</td>\n",
       "      <td>3.5</td>\n",
       "      <td>81</td>\n",
       "      <td>0.0</td>\n",
       "      <td>NaN</td>\n",
       "      <td>None</td>\n",
       "      <td>None</td>\n",
       "      <td>29.6</td>\n",
       "      <td>44.5</td>\n",
       "      <td>286</td>\n",
       "      <td>1021.6</td>\n",
       "      <td>2</td>\n",
       "    </tr>\n",
       "  </tbody>\n",
       "</table>\n",
       "</div>"
      ],
      "text/plain": [
       "                  time        time_local  temperature  dewpoint  humidity  \\\n",
       "0  2019-01-08 00:00:00  2019-01-08 00:00          7.1       4.1        81   \n",
       "1  2019-01-08 01:00:00  2019-01-08 01:00          6.9       3.9        81   \n",
       "2  2019-01-08 02:00:00  2019-01-08 02:00          6.9       3.9        81   \n",
       "3  2019-01-08 03:00:00  2019-01-08 03:00          6.7       3.5        80   \n",
       "4  2019-01-08 04:00:00  2019-01-08 04:00          6.5       3.5        81   \n",
       "\n",
       "   precipitation  precipitation_3 precipitation_6 snowdepth  windspeed  \\\n",
       "0            0.0              0.0            None      None       29.6   \n",
       "1            0.0              NaN            None      None       29.6   \n",
       "2            0.0              NaN            None      None       29.6   \n",
       "3            0.0              0.0            None      None       29.6   \n",
       "4            0.0              NaN            None      None       29.6   \n",
       "\n",
       "   peakgust  winddirection  pressure  condition  \n",
       "0      44.5            279    1022.2          2  \n",
       "1      44.5            279    1022.0          2  \n",
       "2      42.6            280    1021.9          2  \n",
       "3      42.6            282    1021.6          2  \n",
       "4      44.5            286    1021.6          2  "
      ]
     },
     "execution_count": 31,
     "metadata": {},
     "output_type": "execute_result"
    }
   ],
   "source": [
    "hemsby_wd.head()"
   ]
  },
  {
   "cell_type": "code",
   "execution_count": 32,
   "metadata": {
    "ExecuteTime": {
     "end_time": "2019-11-16T22:12:34.141352Z",
     "start_time": "2019-11-16T22:12:34.117941Z"
    }
   },
   "outputs": [],
   "source": [
    "hemsby_wd['time'] = pd.to_datetime(hemsby_wd['time'])"
   ]
  },
  {
   "cell_type": "code",
   "execution_count": 33,
   "metadata": {
    "ExecuteTime": {
     "end_time": "2019-11-16T22:12:37.271017Z",
     "start_time": "2019-11-16T22:12:37.266206Z"
    }
   },
   "outputs": [],
   "source": [
    "hemsby_wd_dt = hemsby_wd[['time','temperature','windspeed','peakgust','pressure']].set_index('time')"
   ]
  },
  {
   "cell_type": "code",
   "execution_count": 34,
   "metadata": {
    "ExecuteTime": {
     "end_time": "2019-11-16T22:12:38.332810Z",
     "start_time": "2019-11-16T22:12:38.324334Z"
    }
   },
   "outputs": [
    {
     "data": {
      "text/html": [
       "<div>\n",
       "<style scoped>\n",
       "    .dataframe tbody tr th:only-of-type {\n",
       "        vertical-align: middle;\n",
       "    }\n",
       "\n",
       "    .dataframe tbody tr th {\n",
       "        vertical-align: top;\n",
       "    }\n",
       "\n",
       "    .dataframe thead th {\n",
       "        text-align: right;\n",
       "    }\n",
       "</style>\n",
       "<table border=\"1\" class=\"dataframe\">\n",
       "  <thead>\n",
       "    <tr style=\"text-align: right;\">\n",
       "      <th></th>\n",
       "      <th>temperature</th>\n",
       "      <th>windspeed</th>\n",
       "      <th>peakgust</th>\n",
       "      <th>pressure</th>\n",
       "    </tr>\n",
       "    <tr>\n",
       "      <th>time</th>\n",
       "      <th></th>\n",
       "      <th></th>\n",
       "      <th></th>\n",
       "      <th></th>\n",
       "    </tr>\n",
       "  </thead>\n",
       "  <tbody>\n",
       "    <tr>\n",
       "      <th>2019-01-08 00:00:00</th>\n",
       "      <td>7.1</td>\n",
       "      <td>29.6</td>\n",
       "      <td>44.5</td>\n",
       "      <td>1022.2</td>\n",
       "    </tr>\n",
       "    <tr>\n",
       "      <th>2019-01-08 01:00:00</th>\n",
       "      <td>6.9</td>\n",
       "      <td>29.6</td>\n",
       "      <td>44.5</td>\n",
       "      <td>1022.0</td>\n",
       "    </tr>\n",
       "    <tr>\n",
       "      <th>2019-01-08 02:00:00</th>\n",
       "      <td>6.9</td>\n",
       "      <td>29.6</td>\n",
       "      <td>42.6</td>\n",
       "      <td>1021.9</td>\n",
       "    </tr>\n",
       "    <tr>\n",
       "      <th>2019-01-08 03:00:00</th>\n",
       "      <td>6.7</td>\n",
       "      <td>29.6</td>\n",
       "      <td>42.6</td>\n",
       "      <td>1021.6</td>\n",
       "    </tr>\n",
       "    <tr>\n",
       "      <th>2019-01-08 04:00:00</th>\n",
       "      <td>6.5</td>\n",
       "      <td>29.6</td>\n",
       "      <td>44.5</td>\n",
       "      <td>1021.6</td>\n",
       "    </tr>\n",
       "  </tbody>\n",
       "</table>\n",
       "</div>"
      ],
      "text/plain": [
       "                     temperature  windspeed  peakgust  pressure\n",
       "time                                                           \n",
       "2019-01-08 00:00:00          7.1       29.6      44.5    1022.2\n",
       "2019-01-08 01:00:00          6.9       29.6      44.5    1022.0\n",
       "2019-01-08 02:00:00          6.9       29.6      42.6    1021.9\n",
       "2019-01-08 03:00:00          6.7       29.6      42.6    1021.6\n",
       "2019-01-08 04:00:00          6.5       29.6      44.5    1021.6"
      ]
     },
     "execution_count": 34,
     "metadata": {},
     "output_type": "execute_result"
    }
   ],
   "source": [
    "hemsby_wd_dt.head()"
   ]
  },
  {
   "cell_type": "code",
   "execution_count": 35,
   "metadata": {
    "ExecuteTime": {
     "end_time": "2019-11-16T22:12:39.894299Z",
     "start_time": "2019-11-16T22:12:39.889621Z"
    }
   },
   "outputs": [
    {
     "data": {
      "text/plain": [
       "DatetimeIndex(['2019-01-08 00:00:00', '2019-01-08 01:00:00',\n",
       "               '2019-01-08 02:00:00', '2019-01-08 03:00:00',\n",
       "               '2019-01-08 04:00:00', '2019-01-08 05:00:00',\n",
       "               '2019-01-08 06:00:00', '2019-01-08 07:00:00',\n",
       "               '2019-01-08 08:00:00', '2019-01-08 09:00:00',\n",
       "               ...\n",
       "               '2019-10-30 14:00:00', '2019-10-30 15:00:00',\n",
       "               '2019-10-30 16:00:00', '2019-10-30 17:00:00',\n",
       "               '2019-10-30 18:00:00', '2019-10-30 19:00:00',\n",
       "               '2019-10-30 20:00:00', '2019-10-30 21:00:00',\n",
       "               '2019-10-30 22:00:00', '2019-10-30 23:00:00'],\n",
       "              dtype='datetime64[ns]', name='time', length=7104, freq=None)"
      ]
     },
     "execution_count": 35,
     "metadata": {},
     "output_type": "execute_result"
    }
   ],
   "source": [
    "hemsby_wd_dt.index"
   ]
  },
  {
   "cell_type": "code",
   "execution_count": 40,
   "metadata": {
    "ExecuteTime": {
     "end_time": "2019-11-16T22:14:29.523551Z",
     "start_time": "2019-11-16T22:14:29.507285Z"
    }
   },
   "outputs": [],
   "source": [
    "hemsby_resampled = hemsby_wd_dt.resample('30T').mean().interpolate()"
   ]
  },
  {
   "cell_type": "code",
   "execution_count": 43,
   "metadata": {
    "ExecuteTime": {
     "end_time": "2019-11-16T22:16:55.005440Z",
     "start_time": "2019-11-16T22:16:54.898742Z"
    }
   },
   "outputs": [],
   "source": [
    "hemsby_resampled.to_csv('hemsby_hourly_resampled.csv')"
   ]
  }
 ],
 "metadata": {
  "kernelspec": {
   "display_name": "Python 2",
   "language": "python",
   "name": "python2"
  },
  "language_info": {
   "codemirror_mode": {
    "name": "ipython",
    "version": 2
   },
   "file_extension": ".py",
   "mimetype": "text/x-python",
   "name": "python",
   "nbconvert_exporter": "python",
   "pygments_lexer": "ipython2",
   "version": "2.7.16"
  },
  "varInspector": {
   "cols": {
    "lenName": 16,
    "lenType": 16,
    "lenVar": 40
   },
   "kernels_config": {
    "python": {
     "delete_cmd_postfix": "",
     "delete_cmd_prefix": "del ",
     "library": "var_list.py",
     "varRefreshCmd": "print(var_dic_list())"
    },
    "r": {
     "delete_cmd_postfix": ") ",
     "delete_cmd_prefix": "rm(",
     "library": "var_list.r",
     "varRefreshCmd": "cat(var_dic_list()) "
    }
   },
   "types_to_exclude": [
    "module",
    "function",
    "builtin_function_or_method",
    "instance",
    "_Feature"
   ],
   "window_display": false
  }
 },
 "nbformat": 4,
 "nbformat_minor": 2
}
