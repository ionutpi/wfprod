{
 "cells": [
  {
   "cell_type": "code",
   "execution_count": 1,
   "metadata": {
    "ExecuteTime": {
     "end_time": "2019-11-17T17:07:06.423641Z",
     "start_time": "2019-11-17T17:07:06.126102Z"
    }
   },
   "outputs": [],
   "source": [
    "import pandas as pd"
   ]
  },
  {
   "cell_type": "code",
   "execution_count": 2,
   "metadata": {
    "ExecuteTime": {
     "end_time": "2019-11-17T17:07:06.600416Z",
     "start_time": "2019-11-17T17:07:06.591675Z"
    }
   },
   "outputs": [],
   "source": [
    "features = pd.read_pickle('features.pkl')\n",
    "target = pd.read_pickle('target.pkl')"
   ]
  },
  {
   "cell_type": "code",
   "execution_count": 3,
   "metadata": {
    "ExecuteTime": {
     "end_time": "2019-11-17T17:07:07.106785Z",
     "start_time": "2019-11-17T17:07:07.104038Z"
    }
   },
   "outputs": [],
   "source": [
    "features.columns = ['vendor_' + str(f) for f in features.columns]\n",
    "target.columns = ['y']"
   ]
  },
  {
   "cell_type": "code",
   "execution_count": 4,
   "metadata": {
    "ExecuteTime": {
     "end_time": "2019-11-17T17:07:07.651965Z",
     "start_time": "2019-11-17T17:07:07.645373Z"
    }
   },
   "outputs": [],
   "source": [
    "prod_df = target.merge(features, left_index=True,\n",
    "                       right_index=True)"
   ]
  },
  {
   "cell_type": "code",
   "execution_count": 5,
   "metadata": {
    "ExecuteTime": {
     "end_time": "2019-11-17T17:07:08.276270Z",
     "start_time": "2019-11-17T17:07:08.273938Z"
    }
   },
   "outputs": [],
   "source": [
    "# In class"
   ]
  },
  {
   "cell_type": "code",
   "execution_count": 6,
   "metadata": {
    "ExecuteTime": {
     "end_time": "2019-11-17T17:07:08.917227Z",
     "start_time": "2019-11-17T17:07:08.906594Z"
    }
   },
   "outputs": [],
   "source": [
    "prod_df=prod_df.replace({ 0:np.nan})"
   ]
  },
  {
   "cell_type": "code",
   "execution_count": 7,
   "metadata": {
    "ExecuteTime": {
     "end_time": "2019-11-17T17:07:09.534833Z",
     "start_time": "2019-11-17T17:07:09.529267Z"
    }
   },
   "outputs": [],
   "source": [
    "prod_df_model = prod_df.interpolate()"
   ]
  },
  {
   "cell_type": "code",
   "execution_count": null,
   "metadata": {
    "ExecuteTime": {
     "start_time": "2019-11-17T17:07:07.292Z"
    }
   },
   "outputs": [],
   "source": [
    "prod_df_model.isnull().sum()"
   ]
  },
  {
   "cell_type": "code",
   "execution_count": null,
   "metadata": {
    "ExecuteTime": {
     "start_time": "2019-11-17T17:07:07.500Z"
    }
   },
   "outputs": [],
   "source": [
    "from MyLRNNRegression import LR_NN_Regressor"
   ]
  },
  {
   "cell_type": "code",
   "execution_count": null,
   "metadata": {
    "ExecuteTime": {
     "start_time": "2019-11-17T17:07:08.416Z"
    }
   },
   "outputs": [],
   "source": [
    "lr_nn = LR_NN_Regressor(input_dim=prod_df_model.iloc[:,1:2].shape[1]).fit(prod_df_model.iloc[:,1:2].values, prod_df_model['y'])"
   ]
  },
  {
   "cell_type": "code",
   "execution_count": null,
   "metadata": {
    "ExecuteTime": {
     "start_time": "2019-11-17T17:07:09.173Z"
    }
   },
   "outputs": [],
   "source": [
    "lr_nn.predict(prod_df_model.iloc[:,1:2].values)"
   ]
  },
  {
   "cell_type": "code",
   "execution_count": 13,
   "metadata": {
    "ExecuteTime": {
     "end_time": "2019-11-17T17:00:48.332649Z",
     "start_time": "2019-11-17T17:00:48.315785Z"
    }
   },
   "outputs": [
    {
     "data": {
      "text/plain": [
       "array([2.65731789, 2.67134724, 2.68119342, 2.68438192, 2.68746682])"
      ]
     },
     "execution_count": 13,
     "metadata": {},
     "output_type": "execute_result"
    }
   ],
   "source": [
    "lr_nn.predict(prod_df_model.iloc[:5,1:2].values)"
   ]
  },
  {
   "cell_type": "code",
   "execution_count": 14,
   "metadata": {
    "ExecuteTime": {
     "end_time": "2019-11-17T17:00:50.721239Z",
     "start_time": "2019-11-17T17:00:50.716431Z"
    }
   },
   "outputs": [
    {
     "data": {
      "text/plain": [
       "array([[2.77877557, 2.7950288 , 2.55040542],\n",
       "       [2.79533643, 2.77866782, 2.55040542],\n",
       "       [2.80695931, 2.76161958, 2.55040542],\n",
       "       ...,\n",
       "       [2.85585621, 3.00115655, 2.94119335],\n",
       "       [2.74790348, 2.63832246, 2.56014806],\n",
       "       [2.72564454, 2.61432979, 2.52334255]])"
      ]
     },
     "execution_count": 14,
     "metadata": {},
     "output_type": "execute_result"
    }
   ],
   "source": [
    "prod_df_model.iloc[:,1:].values"
   ]
  },
  {
   "cell_type": "code",
   "execution_count": null,
   "metadata": {},
   "outputs": [],
   "source": []
  }
 ],
 "metadata": {
  "kernelspec": {
   "display_name": "Python 3",
   "language": "python",
   "name": "python3"
  },
  "language_info": {
   "codemirror_mode": {
    "name": "ipython",
    "version": 3
   },
   "file_extension": ".py",
   "mimetype": "text/x-python",
   "name": "python",
   "nbconvert_exporter": "python",
   "pygments_lexer": "ipython3",
   "version": "3.7.5"
  },
  "varInspector": {
   "cols": {
    "lenName": 16,
    "lenType": 16,
    "lenVar": 40
   },
   "kernels_config": {
    "python": {
     "delete_cmd_postfix": "",
     "delete_cmd_prefix": "del ",
     "library": "var_list.py",
     "varRefreshCmd": "print(var_dic_list())"
    },
    "r": {
     "delete_cmd_postfix": ") ",
     "delete_cmd_prefix": "rm(",
     "library": "var_list.r",
     "varRefreshCmd": "cat(var_dic_list()) "
    }
   },
   "types_to_exclude": [
    "module",
    "function",
    "builtin_function_or_method",
    "instance",
    "_Feature"
   ],
   "window_display": false
  }
 },
 "nbformat": 4,
 "nbformat_minor": 2
}
